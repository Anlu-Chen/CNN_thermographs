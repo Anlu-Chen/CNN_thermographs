{
  "nbformat": 4,
  "nbformat_minor": 0,
  "metadata": {
    "colab": {
      "name": "Borrador_2d_02.ipynb",
      "provenance": [],
      "collapsed_sections": [],
      "mount_file_id": "1Gx5zBmBuco6IwDmOw0bgHtAtZdUTOO6p",
      "authorship_tag": "ABX9TyPrQ9F24cO9xFCC5xBpZSxp",
      "include_colab_link": true
    },
    "kernelspec": {
      "name": "python3",
      "display_name": "Python 3"
    },
    "accelerator": "GPU"
  },
  "cells": [
    {
      "cell_type": "markdown",
      "metadata": {
        "id": "view-in-github",
        "colab_type": "text"
      },
      "source": [
        "<a href=\"https://colab.research.google.com/github/anluchen98/TFG_Anlu_Chen/blob/main/Modelo_CNN_derivadas_topologicas.ipynb\" target=\"_parent\"><img src=\"https://colab.research.google.com/assets/colab-badge.svg\" alt=\"Open In Colab\"/></a>"
      ]
    },
    {
      "cell_type": "code",
      "metadata": {
        "id": "_l05JBqngaF6"
      },
      "source": [
        "import tensorflow as tf\n",
        "from tensorflow import keras \n",
        "import numpy as np\n",
        "import time as time"
      ],
      "execution_count": 2,
      "outputs": []
    },
    {
      "cell_type": "code",
      "metadata": {
        "id": "mnmsF126gg0X"
      },
      "source": [
        "training_data=np.loadtxt('/content/drive/My Drive/train_experiments7.1.csv', delimiter=';')\n",
        "training_solutions=np.loadtxt('/content/drive/My Drive/train_solutions7.1.csv',delimiter=';')\n",
        "test_data=np.loadtxt('/content/drive/My Drive/test_experiments7.1.csv',delimiter=';')\n",
        "test_solutions=np.loadtxt('/content/drive/My Drive/test_solutions7.1.csv',delimiter=';')"
      ],
      "execution_count": 3,
      "outputs": []
    },
    {
      "cell_type": "code",
      "metadata": {
        "id": "fiXo0V8BgiXy",
        "outputId": "cd855068-c42f-47e0-c8f2-e7ca907265fa",
        "colab": {
          "base_uri": "https://localhost:8080/"
        }
      },
      "source": [
        "#training_data=np.reshape(training_data,(training_data.shape[0],15,1001))#usarlo en caso de modelo simple sin CNN.\n",
        "training_data=np.reshape(training_data,(training_data.shape[0],15,1001,1))\n",
        "print(training_data.shape)\n",
        "#test_data=np.reshape(test_data,(test_data.shape[0],15,1001))#usarlo en caso de modelo simple sin CNN.\n",
        "test_data=np.reshape(test_data,(test_data.shape[0],15,1001,1))\n",
        "print(test_data.shape)"
      ],
      "execution_count": 4,
      "outputs": [
        {
          "output_type": "stream",
          "text": [
            "(5600, 15, 1001, 1)\n",
            "(840, 15, 1001, 1)\n"
          ],
          "name": "stdout"
        }
      ]
    },
    {
      "cell_type": "code",
      "metadata": {
        "id": "S3adq300gnMD",
        "outputId": "777e7c3a-8b96-4a7f-869e-91b70a13d536",
        "colab": {
          "base_uri": "https://localhost:8080/"
        }
      },
      "source": [
        "# GRADED FUNCTION: train_mnist_conv\n",
        "tic=time.time()\n",
        "def train_conv():\n",
        "\n",
        "    model = tf.keras.models.Sequential([\n",
        "            tf.keras.layers.Conv2D(128, (2,2), activation='relu',input_shape=(15,1001,1)),\n",
        "            tf.keras.layers.MaxPooling2D(2,2),\n",
        "            tf.keras.layers.Conv2D(128, (2,2), activation='relu'),\n",
        "            tf.keras.layers.MaxPooling2D(2,2),\n",
        "            tf.keras.layers.Conv2D(128, (2,2), activation='relu'),\n",
        "            tf.keras.layers.MaxPooling2D(2,2),\n",
        "            tf.keras.layers.Flatten(),#input_shape=(15,1001)),#usarlo en caso de modelo simple sin CNN.\n",
        "            tf.keras.layers.Dense(15000, activation=\"elu\"),\n",
        "            tf.keras.layers.Dense(1500, activation=\"elu\"),\n",
        "            tf.keras.layers.Dense(600, activation=\"elu\"),\n",
        "            tf.keras.layers.Dense(600, activation=\"elu\"),\n",
        "            tf.keras.layers.Dense(600, activation=\"elu\"),\n",
        "            tf.keras.layers.Dense(600, activation=\"elu\"),\n",
        "            tf.keras.layers.Dense(600, activation=\"elu\"),\n",
        "            tf.keras.layers.Dense(600, activation=\"elu\"),\n",
        "            tf.keras.layers.Dense(600, activation=\"elu\"),\n",
        "            tf.keras.layers.Dense(600, activation=\"elu\"),\n",
        "            tf.keras.layers.Dense(600, activation=\"elu\"),\n",
        "            tf.keras.layers.Dense(600, activation=\"elu\"),\n",
        "            tf.keras.layers.Dense(600, activation=\"elu\"),\n",
        "            tf.keras.layers.Dense(100, activation=\"elu\"),\n",
        "            tf.keras.layers.Dense(100, activation=\"elu\"),\n",
        "            tf.keras.layers.Dense(100, activation=\"elu\"),\n",
        "            tf.keras.layers.Dense(100, activation=\"elu\"),\n",
        "            tf.keras.layers.Dense(100, activation=\"elu\"),\n",
        "            tf.keras.layers.Dense(100, activation=\"elu\"),\n",
        "            tf.keras.layers.Dense(1, activation=\"sigmoid\")\n",
        "            ])\n",
        "\n",
        "    model.compile(optimizer='sgd', loss='MeanSquaredError', metrics=['accuracy'])\n",
        "    # model fitting\n",
        "    history = model.fit(training_data, training_solutions, validation_data=(test_data, test_solutions),epochs=100)\n",
        "    \n",
        "    # model plotting\n",
        "    model.summary() \n",
        "    import pandas as pd\n",
        "    import matplotlib.pyplot as plt\n",
        "    pd.DataFrame(history.history).plot(figsize=(12,7))\n",
        "    plt.grid(True)\n",
        "    plt.show()\n",
        "\n",
        "    #hacemos las predicciones y las guardamos\n",
        "    predictions = model.predict(test_data)\n",
        "    #Guardamos las predicciones\n",
        "    #np.savetxt(predictionsfile, predictions, delimiter='\\n')\n",
        "    #También guardamos las soluciones, para poder graficar y ver visualmente la exactitud\n",
        "    #np.savetxt(solutionsfile, test_solutions, delimiter='\\n')\n",
        "    x=np.zeros(50)\n",
        "    y=np.zeros(50)\n",
        "    z=np.zeros(50)\n",
        "    for i in range (0,50):\n",
        "      x[i]=i\n",
        "    for i in range (0,50):\n",
        "      y[i]=predictions[i]\n",
        "    for i in range (0,50):\n",
        "      z[i]=test_solutions[i]\n",
        "    fig, ax = plt.subplots(figsize = (20, 5))\n",
        "    plt.title(\"8,16,32,64CNN+maxpolling ; 1000elu +500elu +1sigm ; 30epoch ; n=5600\") #cambiar el titulo de la grafica en cada caso.\n",
        "    plt.scatter(x,y)\n",
        "    plt.scatter(x,z)\n",
        "    plt.show()\n",
        "    print(y)\n",
        "    print(z)\n",
        "\n",
        "train_conv()  \n",
        "toc=time.time()\n",
        "print((toc-tic)/60,'\\n minutos ha durado')"
      ],
      "execution_count": null,
      "outputs": [
        {
          "output_type": "stream",
          "text": [
            "Epoch 1/100\n",
            "  2/175 [..............................] - ETA: 14s - loss: 0.0321 - accuracy: 0.0000e+00WARNING:tensorflow:Callbacks method `on_train_batch_end` is slow compared to the batch time (batch time: 0.0091s vs `on_train_batch_end` time: 0.1575s). Check your callbacks.\n",
            "175/175 [==============================] - 28s 162ms/step - loss: 0.0159 - accuracy: 0.0000e+00 - val_loss: 0.0071 - val_accuracy: 0.0000e+00\n",
            "Epoch 2/100\n",
            "175/175 [==============================] - 28s 161ms/step - loss: 0.0066 - accuracy: 0.0000e+00 - val_loss: 0.0066 - val_accuracy: 0.0000e+00\n",
            "Epoch 3/100\n",
            "175/175 [==============================] - ETA: 0s - loss: 0.0060 - accuracy: 0.0000e+00"
          ],
          "name": "stdout"
        }
      ]
    },
    {
      "cell_type": "code",
      "metadata": {
        "id": "Z0Et1mT6Ey6A"
      },
      "source": [
        "numpy.save(nombre,nombre,allow.pickle=False)"
      ],
      "execution_count": null,
      "outputs": []
    }
  ]
}